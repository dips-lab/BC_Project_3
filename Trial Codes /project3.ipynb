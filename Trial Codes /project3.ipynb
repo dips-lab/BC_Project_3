{
 "cells": [
  {
   "cell_type": "code",
   "execution_count": 64,
   "metadata": {},
   "outputs": [
    {
     "data": {
      "text/plain": [
       "\"\\nimport warnings\\nwarnings.filterwarnings('ignore')\\n\""
      ]
     },
     "execution_count": 64,
     "metadata": {},
     "output_type": "execute_result"
    }
   ],
   "source": [
    "# Import libraries and dependencies\n",
    "import pandas as pd\n",
    "import numpy as np\n",
    "from pathlib import Path\n",
    "%matplotlib inline\n",
    "\n",
    "from sklearn.ensemble import RandomForestClassifier\n",
    "from sklearn.datasets import make_classification\n",
    "from sklearn.metrics import mean_squared_error\n",
    "from sklearn import tree\n",
    "from math import sqrt\n",
    "\n",
    "from sklearn.tree import export_text\n",
    "from sklearn.metrics import r2_score\n",
    "from sklearn.metrics import f1_score\n",
    "\n",
    "'''\n",
    "\n",
    "from sklearn.ensemble import RandomForestClassifier\n",
    "from sklearn.preprocessing import StandardScaler\n",
    "from sklearn.model_selection import train_test_split\n",
    "from sklearn.metrics import confusion_matrix, accuracy_score, classification_report\n",
    "'''\n",
    "# Needed for decision tree visualization\n",
    "'''\n",
    "import pydotplus\n",
    "from IPython.display import Image\n",
    "'''\n",
    "\n",
    "'''\n",
    "import warnings\n",
    "warnings.filterwarnings('ignore')\n",
    "'''"
   ]
  },
  {
   "cell_type": "code",
   "execution_count": 89,
   "metadata": {},
   "outputs": [],
   "source": [
    "def forest_tool(input_filename, model_depth, model_estimators):\n",
    "    \n",
    "    # Loading data\n",
    "    file_path = Path(f\"./{input_filename}\")\n",
    "    df_loans = pd.read_csv(file_path)\n",
    "    \n",
    "  \n",
    "    input_data = df_loans.copy()\n",
    "    \n",
    "    input_data['C'] = np.arange(len(input_data))\n",
    "    input_data.set_index('C',inplace=True)\n",
    "    \n",
    "  \n",
    "    ##############################################################\n",
    "    \n",
    "    total_data_points = len(input_data.index)\n",
    "    \n",
    "    #get number of data points for training and test\n",
    "    training_number = round(0.80*total_data_points)\n",
    "    test_number = total_data_points - training_number\n",
    "    \n",
    "    input_data.reset_index(inplace=True)\n",
    "    input_data.drop(columns=['C'],inplace=True)\n",
    "    \n",
    "    X = input_data.iloc[: , 1:]\n",
    "    y = input_data.iloc[:, 0].to_frame()\n",
    "    \n",
    "    #checkkkk = training_number + test_number\n",
    "   \n",
    "    \n",
    "    #X Variable training set\n",
    "    X_train=None\n",
    "    X_train=X.head(training_number)\n",
    "    \n",
    "    X_test=None\n",
    "    X_test=X.tail(test_number)\n",
    "    \n",
    "    y_train=None\n",
    "    y_train=y.head(training_number)\n",
    "    \n",
    "    y_test=None\n",
    "    y_test=y.tail(test_number)\n",
    "    \n",
    "        \n",
    "    ################################################################\n",
    "    \n",
    "    model=None\n",
    "    model = RandomForestClassifier(n_estimators=model_estimators, max_depth=model_depth, random_state=0)\n",
    "    model.fit(X_train, y_train)\n",
    "    \n",
    "    # Make a prediction of \"y\" values from the X_test dataset\n",
    "    predictions=None\n",
    "    predictions = model.predict(X_test)\n",
    "    \n",
    "    #Get results of model 1   \n",
    "    Results=None\n",
    "    Results = y_test.copy(deep=True)\n",
    "    Results[\"Predicted Value\"] = predictions\n",
    "    Results.rename(columns={ Results.columns[0]: \"target_variable\" }, inplace = True)\n",
    "    \n",
    "    y_actual=Results[\"target_variable\"].to_list()\n",
    "    y_predicted=Results[\"Predicted Value\"].to_list()\n",
    "    \n",
    "    rms=None\n",
    "    rms = sqrt(mean_squared_error(y_actual, y_predicted, squared=False))\n",
    "    \n",
    "    model1_f1=None\n",
    "    model1_f1=f1_score(y_actual, y_predicted, average=\"macro\")\n",
    "   \n",
    "    return(rms,model1_f1)\n",
    "    \n",
    "    "
   ]
  },
  {
   "cell_type": "code",
   "execution_count": 90,
   "metadata": {},
   "outputs": [
    {
     "name": "stderr",
     "output_type": "stream",
     "text": [
      "D:\\ProgramFiles\\Anaconda\\envs\\pyvizenv\\lib\\site-packages\\ipykernel_launcher.py:49: DataConversionWarning: A column-vector y was passed when a 1d array was expected. Please change the shape of y to (n_samples,), for example using ravel().\n"
     ]
    },
    {
     "data": {
      "text/plain": [
       "(9.367477988974471, 0.44523453093812376)"
      ]
     },
     "execution_count": 90,
     "metadata": {},
     "output_type": "execute_result"
    }
   ],
   "source": [
    "name_of_file=\"loans_data_encoded.csv\"\n",
    "depth = 4\n",
    "estimators = 120\n",
    "\n",
    "forest_tool(name_of_file, depth, estimators)"
   ]
  },
  {
   "cell_type": "code",
   "execution_count": null,
   "metadata": {},
   "outputs": [],
   "source": []
  }
 ],
 "metadata": {
  "kernelspec": {
   "display_name": "Python [conda env:pyvizenv] *",
   "language": "python",
   "name": "conda-env-pyvizenv-py"
  },
  "language_info": {
   "codemirror_mode": {
    "name": "ipython",
    "version": 3
   },
   "file_extension": ".py",
   "mimetype": "text/x-python",
   "name": "python",
   "nbconvert_exporter": "python",
   "pygments_lexer": "ipython3",
   "version": "3.7.9"
  }
 },
 "nbformat": 4,
 "nbformat_minor": 4
}
